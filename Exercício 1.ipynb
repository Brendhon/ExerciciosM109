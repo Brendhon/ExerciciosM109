{
 "cells": [
  {
   "cell_type": "markdown",
   "metadata": {},
   "source": [
    "## Exercício 1"
   ]
  },
  {
   "cell_type": "markdown",
   "metadata": {},
   "source": [
    "**Importando bibliotecas**"
   ]
  },
  {
   "cell_type": "code",
   "execution_count": 1,
   "metadata": {},
   "outputs": [],
   "source": [
    "import numpy as np\n",
    "import pandas as pd"
   ]
  },
  {
   "cell_type": "markdown",
   "metadata": {},
   "source": [
    "**Importando dados como um dataframe**"
   ]
  },
  {
   "cell_type": "code",
   "execution_count": 2,
   "metadata": {},
   "outputs": [],
   "source": [
    "dataframe = pd.read_fwf('data.txt',header=None,\n",
    "names=[\"Router1\", \"Router2\", \"Router3\", \"Router4\",\"Router5\",\"Router6\",\"Router7\", \"Room\"])"
   ]
  },
  {
   "cell_type": "markdown",
   "metadata": {},
   "source": [
    "---"
   ]
  },
  {
   "cell_type": "markdown",
   "metadata": {},
   "source": [
    "### Resposta\n",
    "A forma mais simples é observar qual dos roteadores tem a maior intensidade de potência média na sala correspondente.<br>\n",
    "Então realizando uma média nos roteadores:"
   ]
  },
  {
   "cell_type": "markdown",
   "metadata": {},
   "source": [
    "### Sala 1"
   ]
  },
  {
   "cell_type": "code",
   "execution_count": 3,
   "metadata": {},
   "outputs": [
    {
     "data": {
      "text/plain": [
       "Router1   -62.490\n",
       "Router2   -56.276\n",
       "Router3   -60.520\n",
       "Router4   -64.182\n",
       "Router5   -70.262\n",
       "Router6   -82.920\n",
       "Router7   -84.026\n",
       "Room        1.000\n",
       "dtype: float64"
      ]
     },
     "execution_count": 3,
     "metadata": {},
     "output_type": "execute_result"
    }
   ],
   "source": [
    "ex1Room1 = dataframe.query('Room==1') # Pegando os dados da sala 1 \n",
    "ex1Room1.mean()"
   ]
  },
  {
   "cell_type": "markdown",
   "metadata": {},
   "source": [
    "MédiaRouter1 = -64 -64 -63 ... /500 = -62.490<br>\n",
    "MédiaRouter2 = -56 -57 -60 ... /500 = -56.276<br>\n",
    "MédiaRouter3 = -61 -61 -60 ... /500 = -60.520<br>\n",
    "MédiaRouter4 = -66 -65 -67 ... /500 = -64.182<br>\n",
    "MédiaRouter5 = -71 -71 -76 ... /500 = -70.262<br>\n",
    "MédiaRouter6 = -82 -85 -85 ... /500 = -82.920<br>\n",
    "MédiaRouter7 = -81 -85 -84 ... /500 = -84.026"
   ]
  },
  {
   "cell_type": "markdown",
   "metadata": {},
   "source": [
    "**Conclusão**:<br>\n",
    "Então observando os resultados acima, podemos observar que o **roteador 2 é mais intenso na sala 1**."
   ]
  },
  {
   "cell_type": "markdown",
   "metadata": {},
   "source": [
    "---"
   ]
  },
  {
   "cell_type": "markdown",
   "metadata": {},
   "source": [
    "### Sala 2"
   ]
  },
  {
   "cell_type": "code",
   "execution_count": 4,
   "metadata": {},
   "outputs": [
    {
     "data": {
      "text/plain": [
       "Router1   -36.924\n",
       "Router2   -56.108\n",
       "Router3   -55.902\n",
       "Router4   -38.066\n",
       "Router5   -67.614\n",
       "Router6   -72.644\n",
       "Router7   -73.498\n",
       "Room        2.000\n",
       "dtype: float64"
      ]
     },
     "execution_count": 4,
     "metadata": {},
     "output_type": "execute_result"
    }
   ],
   "source": [
    "ex1Room2 = dataframe.query('Room==2') # Pegando os dados da sala 2 \n",
    "ex1Room2.mean()"
   ]
  },
  {
   "cell_type": "markdown",
   "metadata": {},
   "source": [
    "MédiaRouter1 = -42 -44 -41 ... /500 = -36.924<br>\n",
    "MédiaRouter2 = -53 -55 -58 ... /500 = -56.108<br>\n",
    "MédiaRouter3 = -62 -61 -56 ... /500 = -55.902<br>\n",
    "MédiaRouter4 = -38 -41 -40 ... /500 = -38.066<br>\n",
    "MédiaRouter5 = -66 -66 -73 ... /500 = -67.614<br>\n",
    "MédiaRouter6 = -65 -72 -69 ... /500 = -72.644<br>\n",
    "MédiaRouter7 = -69 -68 -73 ... /500 = -73.498"
   ]
  },
  {
   "cell_type": "markdown",
   "metadata": {},
   "source": [
    "**Conclusão**: <br>\n",
    "Então observando os resultados acima, podemos concluir que o **roteador 1 é mais intenso na sala 2**."
   ]
  },
  {
   "cell_type": "markdown",
   "metadata": {},
   "source": [
    "---"
   ]
  },
  {
   "cell_type": "markdown",
   "metadata": {},
   "source": [
    "### Sala 3"
   ]
  },
  {
   "cell_type": "code",
   "execution_count": 5,
   "metadata": {},
   "outputs": [
    {
     "data": {
      "text/plain": [
       "Router1   -49.726\n",
       "Router2   -54.886\n",
       "Router3   -52.784\n",
       "Router4   -50.702\n",
       "Router5   -63.232\n",
       "Router6   -81.368\n",
       "Router7   -82.392\n",
       "Room        3.000\n",
       "dtype: float64"
      ]
     },
     "execution_count": 5,
     "metadata": {},
     "output_type": "execute_result"
    }
   ],
   "source": [
    "ex1Room3 = dataframe.query('Room==3') # Pegando os dados da sala 3\n",
    "ex1Room3.mean()"
   ]
  },
  {
   "cell_type": "markdown",
   "metadata": {},
   "source": [
    "MédiaRouter1 = -48 -54 -50 ... /500 = -49.726<br>\n",
    "MédiaRouter2 = -54 -53 -56 ... /500 = -54.886<br>\n",
    "MédiaRouter3 = -50 -54 -54 ... /500 = -52.784<br>\n",
    "MédiaRouter4 = -49 -50 -50 ... /500 = -50.702<br>\n",
    "MédiaRouter5 = -61 -63 -71 ... /500 = -63.232<br>\n",
    "MédiaRouter6 = -81 -79 -79 ... /500 = -81.368<br>\n",
    "MédiaRouter7 = -84 -77 -77 ... /500 = -82.392"
   ]
  },
  {
   "cell_type": "markdown",
   "metadata": {},
   "source": [
    "**Conclusão**:<br>\n",
    "Então observando os resultados acima, podemos concluir que o **roteador 1 é mais intenso na sala 3**."
   ]
  },
  {
   "cell_type": "markdown",
   "metadata": {},
   "source": [
    "---"
   ]
  },
  {
   "cell_type": "markdown",
   "metadata": {},
   "source": [
    "### Sala 4"
   ]
  },
  {
   "cell_type": "code",
   "execution_count": 6,
   "metadata": {},
   "outputs": [
    {
     "data": {
      "text/plain": [
       "Router1   -60.182\n",
       "Router2   -55.224\n",
       "Router3   -50.650\n",
       "Router4   -61.316\n",
       "Router5   -49.454\n",
       "Router6   -87.008\n",
       "Router7   -86.990\n",
       "Room        4.000\n",
       "dtype: float64"
      ]
     },
     "execution_count": 6,
     "metadata": {},
     "output_type": "execute_result"
    }
   ],
   "source": [
    "ex1Room4 = dataframe.query('Room==4') # Pegando os dados da sala 4\n",
    "ex1Room4.mean()"
   ]
  },
  {
   "cell_type": "markdown",
   "metadata": {},
   "source": [
    "MédiaRouter1 = -58 -61 -55 ... /500 = -60.182<br>\n",
    "MédiaRouter2 = -56 -52 -50 ... /500 = -55.224<br>\n",
    "MédiaRouter3 = -47 -49 -51 ... /500 = -50.650<br>\n",
    "MédiaRouter4 = -62 -56 -61 ... /500 = -61.316<br>\n",
    "MédiaRouter5 = -36 -46 -48 ... /500 = -49.454<br>\n",
    "MédiaRouter6 = -85 -84 -82 ... /500 = -87.008<br>\n",
    "MédiaRouter7 = -84 -83 -79 ... /500 = -86.990"
   ]
  },
  {
   "cell_type": "markdown",
   "metadata": {},
   "source": [
    "**Conclusão**:<br>\n",
    "Então observando os resultados acima, podemos concluir que o **roteador 5 é mais intenso na sala 4**."
   ]
  }
 ],
 "metadata": {
  "kernelspec": {
   "display_name": "Python 3",
   "language": "python",
   "name": "python3"
  },
  "language_info": {
   "codemirror_mode": {
    "name": "ipython",
    "version": 3
   },
   "file_extension": ".py",
   "mimetype": "text/x-python",
   "name": "python",
   "nbconvert_exporter": "python",
   "pygments_lexer": "ipython3",
   "version": "3.7.6"
  }
 },
 "nbformat": 4,
 "nbformat_minor": 4
}

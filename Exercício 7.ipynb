{
 "cells": [
  {
   "cell_type": "markdown",
   "metadata": {},
   "source": [
    "## Exercício 7"
   ]
  },
  {
   "cell_type": "markdown",
   "metadata": {},
   "source": [
    "### Resposta\n",
    "Tendo o conhecimento do **Teorema central do limite** podemos dizer que a distribuição gaussiana é a melhor função dentre as apresentadas no exercício 6, para aproximar a variável aleatória, porém não foi isso que aconteceu no desenrolar do exercício 6, isso se deve ao fato do número de amostras. O **Teorema central do limite** diz que quando o tamanho da amostra aumenta, a distribuição amostral da sua média aproxima-se cada vez mais de uma distribuição normal. Portando se tivessemos um maior número de amostras o histograma se aproximaria de uma distribuição gaussiana."
   ]
  }
 ],
 "metadata": {
  "kernelspec": {
   "display_name": "Python 3",
   "language": "python",
   "name": "python3"
  },
  "language_info": {
   "codemirror_mode": {
    "name": "ipython",
    "version": 3
   },
   "file_extension": ".py",
   "mimetype": "text/x-python",
   "name": "python",
   "nbconvert_exporter": "python",
   "pygments_lexer": "ipython3",
   "version": "3.7.6"
  }
 },
 "nbformat": 4,
 "nbformat_minor": 4
}
